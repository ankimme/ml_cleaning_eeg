{
 "cells": [
  {
   "cell_type": "code",
   "execution_count": 4,
   "metadata": {},
   "outputs": [],
   "source": [
    "import numpy as np\n",
    "import mne\n",
    "import matplotlib.pyplot as plt"
   ]
  },
  {
   "cell_type": "code",
   "execution_count": 5,
   "metadata": {},
   "outputs": [],
   "source": [
    "def load_single_record(\n",
    "    path: str,\n",
    "    sample_rate: int = 250,\n",
    "    low_freq: int = 0.5,\n",
    "    high_freq: int = 45,\n",
    "    epoch_size: int = 2,\n",
    "    epoch_overlap: int = 1,\n",
    "    normalize: bool = False,\n",
    "    remove_dc: bool = False,\n",
    ") -> np.ndarray:\n",
    "    # Load a single recording\n",
    "    raw = mne.io.read_raw_eeglab(\n",
    "        path,\n",
    "        preload=True,\n",
    "    )\n",
    "    # Resampling\n",
    "    raw.resample(sample_rate)\n",
    "\n",
    "    # Bandpass filter\n",
    "    filtered = raw.copy().filter(l_freq=low_freq, h_freq=high_freq, verbose=False)\n",
    "\n",
    "    # print(filtered.get_data().shape)\n",
    "    if normalize:\n",
    "    # Normalize signal\n",
    "        scaler = mne.decoding.Scaler(scalings=\"mean\")\n",
    "        scaled_data = scaler.fit_transform(filtered.get_data())\n",
    "        scaled_data = scaled_data.reshape(filtered.get_data().shape)\n",
    "        # print(scaled_data.shape)\n",
    "\n",
    "        scaled_raw = mne.io.RawArray(scaled_data, filtered.info)\n",
    "    else:\n",
    "        scaled_raw = filtered\n",
    "\n",
    "    if remove_dc:\n",
    "        scaled_raw = scaled_raw.copy().filter(l_freq=0.1, h_freq=None)\n",
    "        # Remove DC component\n",
    "        # scaled_raw.apply_function(\n",
    "        #     lambda x: x - np.mean(x), picks=mne.pick_types(scaled_raw.info, eeg=True)\n",
    "        # )\n",
    "\n",
    "    # print(scaled_raw.info)\n",
    "\n",
    "    # Segmentation into epochs\n",
    "    epochs = mne.make_fixed_length_epochs(\n",
    "        scaled_raw, duration=epoch_size, overlap=epoch_overlap, preload=True, verbose=False\n",
    "    )\n",
    "\n",
    "    epochs_data = epochs.get_data(copy=True)\n",
    "\n",
    "    return epochs_data"
   ]
  },
  {
   "cell_type": "code",
   "execution_count": 6,
   "metadata": {},
   "outputs": [
    {
     "name": "stdout",
     "output_type": "stream",
     "text": [
      "Loading subject 2\n",
      "Loading subject 44\n",
      "Loading subject 70\n",
      "Loading subject 84\n"
     ]
    }
   ],
   "source": [
    "# healthy subject_ids = [\"037\", \"043\", \"044\", \"057\", \"065\"]\n",
    "\n",
    "train_ids = [1, 5, 20, 37, 43, 57, 65, 67, 76, 82, 83]\n",
    "validation_ids = [2, 44, 70, 84]\n",
    "\n",
    "\n",
    "raw_data = np.empty((0, 19, 500))\n",
    "clean_data = np.empty((0, 19, 500))\n",
    "\n",
    "# for s_id in train_ids:\n",
    "for s_id in validation_ids:\n",
    "    print(f\"Loading subject {s_id}\")\n",
    "    raw_single = load_single_record(\n",
    "        f\"./data_raw/sub-{s_id:03d}/eeg/sub-{s_id:03d}_task-eyesclosed_eeg.set\",\n",
    "        normalize=False,\n",
    "        remove_dc=False,\n",
    "    )\n",
    "    raw_data = np.vstack((raw_data, raw_single))\n",
    "    clean_single = load_single_record(\n",
    "        f\"./data_clean/sub-{s_id:03d}/eeg/sub-{s_id:03d}_task-eyesclosed_eeg.set\",\n",
    "        normalize=False,\n",
    "        remove_dc=False,\n",
    "    )\n",
    "    clean_data = np.vstack((clean_data, clean_single))\n",
    "\n",
    "assert len(raw_data) == len(clean_data), \"Raw and clean data are not of the same length\"\n",
    "\n",
    "save = True\n",
    "if save:\n",
    "    np.save(\"./data_npy/raw_data_validation_nonorm.npy\", raw_data)\n",
    "    np.save(\"./data_npy/clean_data_validation_nonorm.npy\", clean_data)"
   ]
  }
 ],
 "metadata": {
  "kernelspec": {
   "display_name": "env",
   "language": "python",
   "name": "python3"
  },
  "language_info": {
   "codemirror_mode": {
    "name": "ipython",
    "version": 3
   },
   "file_extension": ".py",
   "mimetype": "text/x-python",
   "name": "python",
   "nbconvert_exporter": "python",
   "pygments_lexer": "ipython3",
   "version": "3.11.5"
  }
 },
 "nbformat": 4,
 "nbformat_minor": 2
}
